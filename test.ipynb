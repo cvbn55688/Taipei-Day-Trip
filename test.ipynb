{
 "cells": [
  {
   "cell_type": "code",
   "execution_count": 1,
   "metadata": {},
   "outputs": [],
   "source": [
    "import re"
   ]
  },
  {
   "cell_type": "code",
   "execution_count": 15,
   "metadata": {},
   "outputs": [
    {
     "name": "stdout",
     "output_type": "stream",
     "text": [
      "<re.Match object; span=(13, 16), match='cat'>\n",
      "None\n"
     ]
    }
   ],
   "source": [
    "a = \"cat\"\n",
    "b = \"bird\"\n",
    "str = \"dof rBKns to cat\"\n",
    "print(re.search(a, str))\n",
    "print(re.search(b, str))"
   ]
  },
  {
   "cell_type": "code",
   "execution_count": 22,
   "metadata": {},
   "outputs": [
    {
     "name": "stdout",
     "output_type": "stream",
     "text": [
      "<re.Match object; span=(4, 7), match='r4n'>\n"
     ]
    }
   ],
   "source": [
    "str = \"dof r5ns to cat\"\n",
    "a = r\"r[A-Z0-9]n\"\n",
    "# print(re.search(a, str))\n",
    "print(re.search(r\"r\\dn\", \"run r4n\")) #\\d為所有數字 \\D則相反(字母)\n"
   ]
  },
  {
   "cell_type": "code",
   "execution_count": null,
   "metadata": {},
   "outputs": [],
   "source": []
  }
 ],
 "metadata": {
  "kernelspec": {
   "display_name": "Python 3.8.8",
   "language": "python",
   "name": "python3"
  },
  "language_info": {
   "codemirror_mode": {
    "name": "ipython",
    "version": 3
   },
   "file_extension": ".py",
   "mimetype": "text/x-python",
   "name": "python",
   "nbconvert_exporter": "python",
   "pygments_lexer": "ipython3",
   "version": "3.8.8"
  },
  "orig_nbformat": 4,
  "vscode": {
   "interpreter": {
    "hash": "f2ea81c7e0c816b771a1dbe9b4a3035c7c6695065d3d16b0c7b6c88b3933003a"
   }
  }
 },
 "nbformat": 4,
 "nbformat_minor": 2
}
